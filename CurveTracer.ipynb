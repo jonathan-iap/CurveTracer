{
 "cells": [
  {
   "cell_type": "code",
   "execution_count": 3,
   "metadata": {
    "collapsed": false
   },
   "outputs": [],
   "source": [
    "\n",
    "import sys, serial, argparse\n",
    "import numpy as np\n",
    "from time import sleep\n",
    "from collections import deque\n",
    "\n",
    "import matplotlib.pyplot as plt \n",
    "import matplotlib.animation as animation\n",
    "INTERVAL = 10\n",
    "SPAN = 500\n",
    "%matplotlib qt\n",
    "# plot class\n",
    "class AnalogPlot:\n",
    "    def __init__(self, strPort, maxLen):\n",
    "        # open serial port\n",
    "        self.ser = serial.Serial(strPort, 9600)\n",
    "        self.val = deque([0.0]*maxLen)\n",
    "        self.lowpass = deque([0.0]*maxLen)\n",
    "        self.kalman = deque([0.0]*maxLen)\n",
    "        self.maxLen = maxLen\n",
    "\n",
    "    # add to buffer\n",
    "    def addToBuf(self, buf, val):\n",
    "        if len(buf) < self.maxLen:\n",
    "            buf.append(val)\n",
    "        else:\n",
    "            buf.pop()\n",
    "            buf.appendleft(val)\n",
    "\n",
    "    # add data\n",
    "    def add(self, data):\n",
    "        self.addToBuf(self.val, data[0])\n",
    "        self.addToBuf(self.lowpass, data[1])\n",
    "        self.addToBuf(self.kalman, data[2])\n",
    "    \n",
    "    # update plot\n",
    "    def update(self, frameNum, a0, a1, a2):\n",
    "        try:\n",
    "            line = self.ser.readline()\n",
    "            try:\n",
    "                data = [float(val) for val in line.split()]\n",
    "            except ValueError:\n",
    "                return\n",
    "            if not len(data) == 3:\n",
    "                return\n",
    "            self.add(data)\n",
    "            a0.set_data(range(self.maxLen), self.val)\n",
    "            a1.set_data(range(self.maxLen), self.lowpass)\n",
    "            a2.set_data(range(self.maxLen), self.kalman)\n",
    "        \n",
    "        except KeyboardInterrupt:\n",
    "            print('exiting')\n",
    "        return a0, a1, a2 \n",
    "\n",
    "    # clean up\n",
    "    def close(self):\n",
    "        # close serial\n",
    "        self.ser.flush()\n",
    "        self.ser.close()    \n",
    "\n",
    "# main() function\n",
    "def main():\n",
    "    strPort = '/dev/ttyACM1'\n",
    "    # strPort = args.port\n",
    "\n",
    "    print('reading from serial port %s...' % strPort)\n",
    "\n",
    "    # plot parameters\n",
    "    analogPlot = AnalogPlot(strPort, SPAN)\n",
    "\n",
    "    print('plotting data...')\n",
    "\n",
    "    # set up animation\n",
    "    fig = plt.figure()\n",
    "    ax = plt.axes(xlim=(0, SPAN), ylim=(3100, 3300))\n",
    "    a0, = ax.plot([], [], 'k-', label='Raw')\n",
    "    a1, = ax.plot([], [], 'g-', label='Low pass')\n",
    "    a2, = ax.plot([], [], 'b-', label='Kalman')\n",
    "    ax.legend()\n",
    "    anim = animation.FuncAnimation(fig, analogPlot.update, \n",
    "                                   fargs=(a0, a1, a2), \n",
    "                                   interval=INTERVAL)\n",
    "\n",
    "    # show plot\n",
    "    # plt.show()\n",
    "  \n",
    "    # clean up\n",
    "    # analogPlot.close()\n",
    "\n",
    "    # print('exiting.')\n",
    "\n"
   ]
  },
  {
   "cell_type": "code",
   "execution_count": 4,
   "metadata": {
    "collapsed": false
   },
   "outputs": [
    {
     "name": "stdout",
     "output_type": "stream",
     "text": [
      "reading from serial port /dev/ttyACM1...\n",
      "plotting data...\n"
     ]
    }
   ],
   "source": [
    "main()"
   ]
  },
  {
   "cell_type": "code",
   "execution_count": 42,
   "metadata": {
    "collapsed": false
   },
   "outputs": [],
   "source": [
    "l = ax.lines[0]"
   ]
  },
  {
   "cell_type": "code",
   "execution_count": 47,
   "metadata": {
    "collapsed": false
   },
   "outputs": [
    {
     "data": {
      "text/plain": [
       "[<matplotlib.lines.Line2D at 0x7f4fd790b0b8>]"
      ]
     },
     "execution_count": 47,
     "metadata": {},
     "output_type": "execute_result"
    }
   ],
   "source": [
    "x, y = l.get_data()\n",
    "\n",
    "fig2, ax2 = plt.subplots()\n",
    "ax2.plot(x, y)"
   ]
  },
  {
   "cell_type": "code",
   "execution_count": null,
   "metadata": {
    "collapsed": true
   },
   "outputs": [],
   "source": []
  }
 ],
 "metadata": {
  "anaconda-cloud": {},
  "kernelspec": {
   "display_name": "Python [Root]",
   "language": "python",
   "name": "Python [Root]"
  },
  "language_info": {
   "codemirror_mode": {
    "name": "ipython",
    "version": 3
   },
   "file_extension": ".py",
   "mimetype": "text/x-python",
   "name": "python",
   "nbconvert_exporter": "python",
   "pygments_lexer": "ipython3",
   "version": "3.5.2"
  }
 },
 "nbformat": 4,
 "nbformat_minor": 0
}
